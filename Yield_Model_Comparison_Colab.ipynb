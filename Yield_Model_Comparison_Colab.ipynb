{
 "cells": [
  {
   "cell_type": "code",
   "execution_count": null,
   "id": "16ca94f8",
   "metadata": {},
   "outputs": [],
   "source": [
    "# 📦 Install external libraries (only needed in Colab)\n",
    "!pip install lightgbm catboost --quiet\n"
   ]
  },
  {
   "cell_type": "code",
   "execution_count": null,
   "id": "e1deecbb",
   "metadata": {},
   "outputs": [],
   "source": [
    "import pandas as pd\n",
    "from sklearn.model_selection import train_test_split\n",
    "from sklearn.preprocessing import LabelEncoder\n",
    "from sklearn.metrics import mean_absolute_error, mean_squared_error, r2_score\n",
    "\n",
    "from sklearn.ensemble import ExtraTreesRegressor\n",
    "import lightgbm as lgb\n",
    "from catboost import CatBoostRegressor\n"
   ]
  },
  {
   "cell_type": "code",
   "execution_count": null,
   "id": "3d641a2c",
   "metadata": {},
   "outputs": [],
   "source": [
    "from google.colab import files\n",
    "uploaded = files.upload()\n",
    "\n",
    "# Replace with the actual file name after upload\n",
    "df = pd.read_excel(\"cleaned_rice_production_for_colab.xlsx\")\n"
   ]
  },
  {
   "cell_type": "code",
   "execution_count": null,
   "id": "b8cc67ee",
   "metadata": {},
   "outputs": [],
   "source": [
    "df['Season_encoded'] = LabelEncoder().fit_transform(df['Season'])\n",
    "df['District_encoded'] = LabelEncoder().fit_transform(df['District'])\n",
    "\n",
    "df_clean = df.dropna(subset=['Year', 'Season_encoded', 'District_encoded', 'Sown(hect)', 'Yield(kg per hect)'])\n",
    "\n",
    "features = ['Year', 'Season_encoded', 'District_encoded', 'Sown(hect)']\n",
    "X = df_clean[features]\n",
    "y = df_clean['Yield(kg per hect)']\n",
    "\n",
    "X_train, X_test, y_train, y_test = train_test_split(X, y, test_size=0.2, random_state=42)\n"
   ]
  },
  {
   "cell_type": "code",
   "execution_count": null,
   "id": "f31d2029",
   "metadata": {},
   "outputs": [],
   "source": [
    "results = {}\n",
    "\n",
    "# 1. ExtraTrees\n",
    "model_et = ExtraTreesRegressor(n_estimators=100, random_state=42)\n",
    "model_et.fit(X_train, y_train)\n",
    "y_pred_et = model_et.predict(X_test)\n",
    "results['ExtraTrees'] = {\n",
    "    'R2': r2_score(y_test, y_pred_et),\n",
    "    'MAE': mean_absolute_error(y_test, y_pred_et),\n",
    "    'MSE': mean_squared_error(y_test, y_pred_et)\n",
    "}\n",
    "\n",
    "# 2. LightGBM\n",
    "model_lgb = lgb.LGBMRegressor(n_estimators=100, random_state=42)\n",
    "model_lgb.fit(X_train, y_train)\n",
    "y_pred_lgb = model_lgb.predict(X_test)\n",
    "results['LightGBM'] = {\n",
    "    'R2': r2_score(y_test, y_pred_lgb),\n",
    "    'MAE': mean_absolute_error(y_test, y_pred_lgb),\n",
    "    'MSE': mean_squared_error(y_test, y_pred_lgb)\n",
    "}\n",
    "\n",
    "# 3. CatBoost\n",
    "model_cb = CatBoostRegressor(iterations=100, verbose=0, random_state=42)\n",
    "model_cb.fit(X_train, y_train)\n",
    "y_pred_cb = model_cb.predict(X_test)\n",
    "results['CatBoost'] = {\n",
    "    'R2': r2_score(y_test, y_pred_cb),\n",
    "    'MAE': mean_absolute_error(y_test, y_pred_cb),\n",
    "    'MSE': mean_squared_error(y_test, y_pred_cb)\n",
    "}\n",
    "\n",
    "results\n"
   ]
  }
 ],
 "metadata": {},
 "nbformat": 4,
 "nbformat_minor": 5
}
