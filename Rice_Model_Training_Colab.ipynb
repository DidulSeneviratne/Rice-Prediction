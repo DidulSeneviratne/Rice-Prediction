{
 "cells": [
  {
   "cell_type": "code",
   "execution_count": null,
   "id": "aec299ba",
   "metadata": {},
   "outputs": [],
   "source": [
    "\n",
    "# 📦 Import required libraries\n",
    "import pandas as pd\n",
    "from sklearn.model_selection import train_test_split\n",
    "from sklearn.preprocessing import LabelEncoder\n",
    "from sklearn.ensemble import RandomForestRegressor\n",
    "from sklearn.metrics import mean_absolute_error, r2_score\n",
    "import joblib\n"
   ]
  },
  {
   "cell_type": "code",
   "execution_count": null,
   "id": "ac37f936",
   "metadata": {},
   "outputs": [],
   "source": [
    "\n",
    "# 📂 Upload your cleaned Excel file here (same as you downloaded before)\n",
    "from google.colab import files\n",
    "uploaded = files.upload()\n",
    "\n",
    "# Load it into a DataFrame\n",
    "df = pd.read_excel(next(iter(uploaded)))\n",
    "df.head()\n"
   ]
  },
  {
   "cell_type": "code",
   "execution_count": null,
   "id": "56369087",
   "metadata": {},
   "outputs": [],
   "source": [
    "\n",
    "# 🔁 Encode categorical variables\n",
    "season_encoder = LabelEncoder()\n",
    "district_encoder = LabelEncoder()\n",
    "df['Season_encoded'] = season_encoder.fit_transform(df['Season'])\n",
    "df['District_encoded'] = district_encoder.fit_transform(df['District'])\n",
    "\n",
    "# Save mappings for reference\n",
    "season_mapping = dict(zip(season_encoder.classes_, season_encoder.transform(season_encoder.classes_)))\n",
    "district_mapping = dict(zip(district_encoder.classes_, district_encoder.transform(district_encoder.classes_)))\n",
    "\n",
    "# Clean missing values\n",
    "required_cols = ['Sown(hect)', 'Gross Harvested(hect)', 'Nett harvetsted(hect)', 'Yield(kg per hect)']\n",
    "df_clean = df.dropna(subset=['Year', 'Season_encoded', 'District_encoded'] + required_cols)\n"
   ]
  },
  {
   "cell_type": "code",
   "execution_count": null,
   "id": "41c10f40",
   "metadata": {},
   "outputs": [],
   "source": [
    "\n",
    "# 🧠 Define input features and targets\n",
    "features = ['Year', 'Season_encoded', 'District_encoded', 'Sown(hect)']\n",
    "\n",
    "def train_model(target_column):\n",
    "    X = df_clean[features]\n",
    "    y = df_clean[target_column]\n",
    "    X_train, _, y_train, _ = train_test_split(X, y, test_size=0.2, random_state=42)\n",
    "    model = RandomForestRegressor(n_estimators=100, random_state=42)\n",
    "    model.fit(X_train, y_train)\n",
    "    return model\n",
    "\n",
    "# Train 3 models\n",
    "model_gross = train_model('Gross Harvested(hect)')\n",
    "model_nett = train_model('Nett harvetsted(hect)')\n",
    "model_yield = train_model('Yield(kg per hect)')\n"
   ]
  },
  {
   "cell_type": "code",
   "execution_count": null,
   "id": "f6f756b1",
   "metadata": {},
   "outputs": [],
   "source": [
    "\n",
    "# 💾 Save models and mappings\n",
    "joblib.dump(model_gross, \"model_gross.pkl\")\n",
    "joblib.dump(model_nett, \"model_nett.pkl\")\n",
    "joblib.dump(model_yield, \"model_yield.pkl\")\n",
    "\n",
    "# Save encodings\n",
    "pd.DataFrame.from_dict(district_mapping, orient='index', columns=['District_encoded']).to_csv(\"district_encoding.csv\")\n",
    "pd.DataFrame.from_dict(season_mapping, orient='index', columns=['Season_encoded']).to_csv(\"season_encoding.csv\")\n",
    "\n",
    "# 🔁 Download from Colab\n",
    "files.download(\"model_gross.pkl\")\n",
    "files.download(\"model_nett.pkl\")\n",
    "files.download(\"model_yield.pkl\")\n",
    "files.download(\"district_encoding.csv\")\n",
    "files.download(\"season_encoding.csv\")\n"
   ]
  }
 ],
 "metadata": {},
 "nbformat": 4,
 "nbformat_minor": 5
}